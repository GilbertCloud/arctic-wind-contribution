{
 "cells": [
  {
   "cell_type": "markdown",
   "id": "ca749452-87e7-4275-b29a-999654360561",
   "metadata": {},
   "source": [
    "# Plotting notebook for moremelt climatology runs\n",
    "## Set up\n",
    "### Packages"
   ]
  },
  {
   "cell_type": "code",
   "execution_count": 1,
   "id": "4ec0c162-355c-46a6-828a-f941fe06e113",
   "metadata": {},
   "outputs": [],
   "source": [
    "import numpy as np\n",
    "import xarray as xr\n",
    "import matplotlib.pyplot as plt\n",
    "from matplotlib.ticker import ScalarFormatter\n",
    "import pandas as pd\n",
    "import scipy\n",
    "from scipy import stats\n",
    "import matplotlib as mpl\n",
    "from mpl_toolkits.axes_grid1.inset_locator import inset_axes\n",
    "from mpl_toolkits.axes_grid1 import make_axes_locatable\n",
    "from matplotlib.mathtext import _mathtext as mathtext\n",
    "import matplotlib.ticker as mticker\n",
    "from matplotlib import font_manager\n",
    "from matplotlib import gridspec, animation\n",
    "import matplotlib.path as mpath\n",
    "import matplotlib.colors as colors\n",
    "import matplotlib.dates as mdates\n",
    "import cartopy\n",
    "import cartopy.crs as ccrs\n",
    "import cartopy.feature as cfeature\n",
    "from cartopy.util import add_cyclic_point\n",
    "from cartopy.mpl.gridliner import LONGITUDE_FORMATTER, LATITUDE_FORMATTER\n",
    "import warnings\n",
    "warnings.simplefilter('ignore', UserWarning)\n",
    "warnings.filterwarnings('ignore')\n",
    "import datetime as dt\n",
    "from datetime import timedelta\n",
    "from cmcrameri import cm\n",
    "import jinja2\n",
    "from Plotting_functions import wvl2wvn, wvn2wvl, p2z, z2p, t_test_two_means, Wilks_pcrit, CustomCmap, draw_circle, CalcStatSig\n",
    "import cftime\n",
    "import dask\n",
    "from dask_jobqueue import PBSCluster\n",
    "from dask.distributed import Client\n",
    "from functools import partial\n",
    "from collections import defaultdict"
   ]
  },
  {
   "cell_type": "code",
   "execution_count": 2,
   "id": "16f8ea62-38bc-40fe-8f67-abca3735d2c0",
   "metadata": {},
   "outputs": [],
   "source": [
    "font_path = '/glade/work/glydia/conda-envs/cenv/fonts/Helvetica.ttc'  # Your font path goes here\n",
    "font_manager.fontManager.addfont(font_path)\n",
    "prop = font_manager.FontProperties(fname=font_path)\n",
    "\n",
    "mpl.rcParams['font.family'] = 'sans-serif'\n",
    "mpl.rcParams['font.sans-serif'] = 'Helvetica'"
   ]
  },
  {
   "cell_type": "markdown",
   "id": "45cc58c2-4fac-498d-9c95-9f7eb847ac2d",
   "metadata": {},
   "source": [
    "### Filepaths and name variables"
   ]
  },
  {
   "cell_type": "code",
   "execution_count": 3,
   "id": "c19ee4e5-8c0d-45bc-b5bd-1de946672acd",
   "metadata": {},
   "outputs": [],
   "source": [
    "## Plot types to make - CHANGE\n",
    "# 0: Weighted spatial mean or sea ice area\n",
    "# 1: Volume\n",
    "# 2: Leave alone (doing spatial map or sea ice concentration)\n",
    "plots = {\n",
    "    'map': [True, 2],\n",
    "    'ts': [False, 0],\n",
    "    'siev': [False, 0],\n",
    "}\n",
    "\n",
    "## Categorical plot type - DO NOT CHANGE\n",
    "plot_types = {\n",
    "    'spatial': plots['map'][0],\n",
    "    'line': plots['ts'][0] or plots['siev'][0]\n",
    "}\n",
    "\n",
    "# Spatial & time domain - CHANGE s_domain & t_domain only\n",
    "s_domain = 1 # 0: Global, 1: Arctic, 2: Antarctic\n",
    "a_domain = plot_types['spatial'] # True: 50-90, False: 70-90\n",
    "t_domain = 911 # start year\n",
    "\n",
    "## Time averaging type - CHANGE\n",
    "time_avg = 0   # 0: Monthly, 1: Yearly, 2: Seasonal, 3: All data, 4: Timeseries\n",
    "\n",
    "# Variables - CHANGE\n",
    "comp = 'ice'\n",
    "var_ind = 1\n",
    "\n",
    "# DO NOT CHANGE\n",
    "var_list = {'atm': ['TREFHT'],\n",
    "            'ice': ['aice', 'hi', 'hs']}\n",
    "var = var_list[comp][var_ind]\n",
    "\n",
    "# CHANGE\n",
    "type_onemonth = 9 # Selects single month to plot timeseries for (time_avg = 4), if doing all months, equals 0\n",
    "plot_levels = [300,500, 850,925] # Selects plot levels for vlev type plots"
   ]
  },
  {
   "cell_type": "code",
   "execution_count": 4,
   "id": "5d169a33-b96d-4a37-a482-5ed2e4babe1d",
   "metadata": {
    "editable": true,
    "slideshow": {
     "slide_type": ""
    },
    "tags": []
   },
   "outputs": [],
   "source": [
    "## Test numbers - DO NOT CHANGE\n",
    "tst_nums = np.arange(1,4)\n",
    "\n",
    "## Test names - True means plot, False means don't plot\n",
    "# CHANGE\n",
    "ds_plot_list = {\n",
    "    'LENS2 piControl': True,\n",
    "    'lessmelt piControl': False,\n",
    "    'moremelt_rsnw0': True\n",
    "}\n",
    "\n",
    "## Filepaths - DO NOT CHANGE\n",
    "path_to_data = '/glade/work/glydia/Arctic_controls_processed_data/climo_plotting_data/'\n",
    "path_to_graphs = '/glade/u/home/glydia/moremelt_climo_graphs/'\n",
    "\n",
    "# Conditions - DO NOT CHANGE\n",
    "vert_lev = {'atm': [False],\n",
    "            'ice': [False,False,False]}\n",
    "file_bool = not vert_lev[comp][var_ind]"
   ]
  },
  {
   "cell_type": "code",
   "execution_count": 5,
   "id": "21693fe8-3f66-4ca9-a307-a47a76451c99",
   "metadata": {},
   "outputs": [],
   "source": [
    "########################## DO NOT CHANGE ANYTHING BELOW THIS LINE #############################"
   ]
  },
  {
   "cell_type": "code",
   "execution_count": 6,
   "id": "62938a12-2e19-4666-aa09-c5fa7d6a5ed7",
   "metadata": {},
   "outputs": [
    {
     "name": "stdout",
     "output_type": "stream",
     "text": [
      "CPU times: user 31 µs, sys: 0 ns, total: 31 µs\n",
      "Wall time: 33.6 µs\n"
     ]
    }
   ],
   "source": [
    "%%time\n",
    "    \n",
    "## Select plot type\n",
    "time_str_list = {0: 'month', 1: 'year'}\n",
    "time_outstr = time_str_list[time_avg]\n",
    "\n",
    "## Select time and spatial domain strings\n",
    "sd_str_list = {0: 'Global', 1: 'Arctic', 2: 'Antarctic'}\n",
    "sd_str = sd_str_list[s_domain]\n",
    "td_str = str(t_domain).zfill(4)\n",
    "\n",
    "mon_str = np.array(['Jan','Feb','Mar','Apr','May','Jun','Jul','Aug','Sep','Oct','Nov','Dec'])\n",
    "month_str = np.array(['January','February','March','April','May','June','July','August','September','October','November','December'])"
   ]
  },
  {
   "cell_type": "code",
   "execution_count": 7,
   "id": "0f864491-65c2-4267-aa04-a8807c94633a",
   "metadata": {},
   "outputs": [],
   "source": [
    "## Set up properties of each dataset and whether it will be plotted or not\n",
    "# O: Single run\n",
    "# attribute structure: [use dataset[0], dataset typ[1], line color[2], line style[3], zorder[4], note[5](optional)]\n",
    "ds_names = {\n",
    "    'LENS2 piControl': [True, 0, 'k', '-', 1, 'pic'],\n",
    "    'lessmelt piControl':  [None, 0, 'blue', '-', 3, 'lmpi'],\n",
    "    'moremelt_rsnw0': [None, 0, 'red', '-', 3, 'mmpi'],\n",
    "}\n",
    "\n",
    "ds_paper_names = {\n",
    "    'LENS2 piControl': 'PI-control',\n",
    "    'lessmelt piControl': 'PI-lessmelt',\n",
    "    'moremelt_rsnw0': 'PI-moremelt',\n",
    "}\n",
    "\n",
    "# Update PiC_UVnudge 'use dataset' values with T/F from ds_plot_list\n",
    "for dsname, use in ds_plot_list.items():\n",
    "    ds_names[dsname][0] = use"
   ]
  },
  {
   "cell_type": "code",
   "execution_count": 8,
   "id": "78ba5e1f-3964-4b24-9eb0-b4282ba50697",
   "metadata": {},
   "outputs": [],
   "source": [
    "## Determine note type based on model runs plotted\n",
    "note = ''\n",
    "\n",
    "for dsname, attrs in ds_names.items():\n",
    "    # Only pick datasets that will plotted and that have a code\n",
    "    if attrs[0] and len(attrs) == 6:\n",
    "        # Each PiC_UVnudge run has its own code, if the run will be plotted, it's code will be added to the note\n",
    "        note = note+attrs[5]+'-'\n",
    "\n",
    "note = note[:-1]"
   ]
  },
  {
   "cell_type": "markdown",
   "id": "56e55d42-5af5-48f9-b26a-b9a0f93a4770",
   "metadata": {},
   "source": [
    "### Custom functions"
   ]
  },
  {
   "cell_type": "code",
   "execution_count": 9,
   "id": "10bf5069-532f-4252-9bbc-24350643b95c",
   "metadata": {},
   "outputs": [],
   "source": [
    "def LoadData(plot_type, varname, tavg, plot_level=None):\n",
    "    # Create file name\n",
    "    filepath = path_to_data+plot_type+'.'+varname+'.'+sd_str+'.'+td_str+'.'+tavg+'.nc'\n",
    "    \n",
    "    data = xr.open_dataset(filepath)\n",
    "    \n",
    "    return data"
   ]
  },
  {
   "cell_type": "code",
   "execution_count": 10,
   "id": "c7fd743f-0dd7-4a9d-ab0f-61457579f4f8",
   "metadata": {},
   "outputs": [],
   "source": [
    "def SubCmap(orgcmap, levels, type, color):\n",
    "    # Type is middle, end or beginning\n",
    "    # Make cmap values swapped out\n",
    "    # color is color to sub in\n",
    "    lev_len = len(levels)+1\n",
    "    cmap_samp = orgcmap.resampled(lev_len)\n",
    "    cmap_list = cmap_samp(np.linspace(0,1,lev_len))\n",
    "\n",
    "    # Swap out first two\n",
    "    if type == 'beg':\n",
    "        lev_ind = 0\n",
    "        cmap_list[lev_ind:(lev_ind+1), :] = color[0]\n",
    "        cmap_list[(lev_ind+1):(lev_ind+2), :] = color[1]\n",
    "        final_cmap, _ = CustomCmap(levels, cmap_list, \n",
    "                           [color[0], orgcmap.get_over()], True)\n",
    "\n",
    "    # Swap out middle two\n",
    "    elif type == 'mid':\n",
    "        lev_ind = int(lev_len/2)\n",
    "        cmap_list[(lev_ind-1):(lev_ind+1), :] = color\n",
    "        final_cmap, _ = CustomCmap(levels, cmap_list, \n",
    "                           [orgcmap.get_under(), orgcmap.get_over()], True)\n",
    "\n",
    "    # Swap out last\n",
    "    else:\n",
    "        lev_ind = -1\n",
    "        cmap_list[lev_ind:, :] = color\n",
    "        final_cmap, _ = CustomCmap(levels, cmap_list, \n",
    "                           [orgcmap.get_under(), color], True)\n",
    "\n",
    "    return final_cmap"
   ]
  },
  {
   "cell_type": "code",
   "execution_count": 11,
   "id": "fe87750a-7782-4aaf-83b9-8da001416be8",
   "metadata": {},
   "outputs": [],
   "source": [
    "def AxisLabels(ax, title_str, land):\n",
    "    if land:\n",
    "        ax.add_feature(cfeature.LAND, zorder=3)\n",
    "    ax.coastlines(zorder=4)\n",
    "    ax.set_extent(extent, ccrs.PlateCarree())\n",
    "    ax.set_title(title_str, fontsize = 12)\n",
    "    draw_circle(ax, draw_circ=(s_domain >= 1), draw_major=False)\n",
    "    return None"
   ]
  },
  {
   "cell_type": "code",
   "execution_count": 12,
   "id": "57490e0b-6ed2-46df-96d9-91558b6990d7",
   "metadata": {},
   "outputs": [],
   "source": [
    "def SaveFig(fig, plot_type, tavg, varname, note=None, plot_level=None):\n",
    "    # File format is:\n",
    "    # var.ensemble_type.spatialdomain.[Zplot_level].plot_type.timeaveraging.timedomain.[note].png\n",
    "    level_str = '' if plot_level == None else 'Z'+str(plot_level)+'.'\n",
    "    note_str = '' if note == None else note+'.'\n",
    "    \n",
    "    fig.savefig(path_to_graphs+varname+'.'+sd_str+'.'+level_str+plot_type+'.'+tavg+'.'+td_str+'.'+note_str+'pdf', bbox_inches='tight')\n",
    "    return None"
   ]
  },
  {
   "cell_type": "markdown",
   "id": "0797221f-ed65-4e23-a96d-9c7cad05e8cf",
   "metadata": {},
   "source": [
    "## Line plots\n",
    "### Set up"
   ]
  },
  {
   "cell_type": "code",
   "execution_count": 13,
   "id": "7a2d71d2-7dce-4b60-be14-77c7a8b33971",
   "metadata": {},
   "outputs": [],
   "source": [
    "if plot_types['line']:\n",
    "    graph_type_str = 'Linear'\n",
    "\n",
    "    ylabelabs = {'aice': ' sea ice extent (million km$^2$)',\n",
    "                 'hi': ' sea ice volume (10$^{13}$ m$^3$)',\n",
    "                 'TREFHT': ' 2m air temperature (K)'}\n",
    "\n",
    "    wdth = {911: 6}\n",
    "\n",
    "    legend_loc = {0: (0.6, 0.7),\n",
    "                  1: (0.3, 0.75)}\n",
    "    \n",
    "    \n",
    "    # Prepare x ticks\n",
    "    # Monthly cycle\n",
    "    if time_avg == 0:\n",
    "        xtick_loc = np.arange(0,12,1)\n",
    "        xtick_loc_min = np.arange(0,12,1)\n",
    "        xtick_lbl = mon_str\n",
    "        xlim = [0,11]\n",
    "        date_str = 'month'\n",
    "        period ='month'\n",
    "        xlabel = ''\n",
    "\n",
    "    # Yearly\n",
    "    elif time_avg == 1:\n",
    "        xtick_loc = np.arange(t_domain,t_domain+200,25)\n",
    "        xtick_loc_min = np.arange(t_domain,t_domain+200,5)\n",
    "        xtick_lbl = np.arange(t_domain,t_domain+200,25)\n",
    "        xlim = [t_domain,t_domain+199]\n",
    "        date_str = 'timeseries_yr'\n",
    "        period='year'\n",
    "        xlabel= 'Year'\n",
    "        dim_avg = 'time.year'"
   ]
  },
  {
   "cell_type": "markdown",
   "id": "fb5be72b-e7ff-4635-ac88-bd6adaae97e2",
   "metadata": {},
   "source": [
    "### Data loading"
   ]
  },
  {
   "cell_type": "code",
   "execution_count": 14,
   "id": "5a06a0a0-cf51-4a57-88e3-c6e481f7599a",
   "metadata": {},
   "outputs": [
    {
     "name": "stdout",
     "output_type": "stream",
     "text": [
      "CPU times: user 3 µs, sys: 0 ns, total: 3 µs\n",
      "Wall time: 5.96 µs\n"
     ]
    }
   ],
   "source": [
    "%%time\n",
    "\n",
    "if plot_types['line']:\n",
    "\n",
    "    ## Absolute \n",
    "    if comp == 'atm':\n",
    "        ds_abs = LoadData(graph_type_str+'.abs', var, period)\n",
    "        sbpt_shp = (1,1)\n",
    "        figsz = (6,3.5)\n",
    "\n",
    "    elif comp == 'ice':\n",
    "        ds_abse = LoadData(graph_type_str+'.abs', 'aice', period)\n",
    "        ds_absv = LoadData(graph_type_str+'.abs', 'hi', period)\n",
    "        ds_abs = [ds_abse, ds_absv]\n",
    "        ice_vars = ['aice','hi']\n",
    "        sbpt_shp = (2,1)\n",
    "        let_list = ['a)','b)']\n",
    "        if time_avg == 1:\n",
    "            figsz = (6,7)\n",
    "        elif time_avg == 0:\n",
    "            figsz = (5,4.5)"
   ]
  },
  {
   "cell_type": "markdown",
   "id": "6631139e-019e-4c20-8f75-079b2364b504",
   "metadata": {},
   "source": [
    "### Make absolute plots"
   ]
  },
  {
   "cell_type": "code",
   "execution_count": 15,
   "id": "035e446b-fc50-4894-bc35-4627c106f498",
   "metadata": {
    "editable": true,
    "slideshow": {
     "slide_type": ""
    },
    "tags": []
   },
   "outputs": [
    {
     "name": "stdout",
     "output_type": "stream",
     "text": [
      "CPU times: user 4 µs, sys: 0 ns, total: 4 µs\n",
      "Wall time: 5.96 µs\n"
     ]
    }
   ],
   "source": [
    "%%time\n",
    "\n",
    "if plot_types['line'] and comp == 'atm':\n",
    "    # Setup figure\n",
    "    fig,ax = plt.subplots(sbpt_shp[0],sbpt_shp[1], layout='constrained')\n",
    "    fig.set_size_inches(figsz[0],figsz[1])\n",
    "\n",
    "    for dsname, attrs in ds_names.items():\n",
    "        if attrs[0]:\n",
    "            da_abs = ds_abs[dsname]\n",
    "\n",
    "            # Plot absolute value\n",
    "            da_abs.plot(\n",
    "                ax=ax, color=attrs[2], ls=attrs[3], x=period, zorder=attrs[4], label=ds_paper_names[dsname])\n",
    "            \n",
    "    # Formatting\n",
    "    ax.set_xlabel(xlabel)\n",
    "    ax.set_xlim(xlim)\n",
    "    ax.set_xticks(ticks=xtick_loc,labels=xtick_lbl)\n",
    "    ax.set_xticks(ticks=xtick_loc_min,minor=True)\n",
    "    ax.set_ylabel(sd_str+ylabelabs[var])\n",
    "    ax.legend(fontsize=8, edgecolor='w')\n",
    "    ax.set_title('')\n",
    "    ax.grid(alpha=0.3)\n",
    "\n",
    "    SaveFig(fig, graph_type_str+'.abs', date_str, var, note)\n",
    "\n",
    "    plt.close(fig)"
   ]
  },
  {
   "cell_type": "code",
   "execution_count": 16,
   "id": "7c51e042-3305-469b-a1f2-d0796676bfe7",
   "metadata": {},
   "outputs": [
    {
     "name": "stdout",
     "output_type": "stream",
     "text": [
      "CPU times: user 4 µs, sys: 0 ns, total: 4 µs\n",
      "Wall time: 5.48 µs\n"
     ]
    }
   ],
   "source": [
    "%%time\n",
    "\n",
    "if plot_types['line'] and comp == 'ice':\n",
    "    # Setup figure\n",
    "    fig, axlist = plt.subplots(sbpt_shp[0],sbpt_shp[1], layout='constrained')\n",
    "    fig.set_size_inches(figsz[0],figsz[0])\n",
    "\n",
    "    for i in range(0,len(ds_abs)):\n",
    "        ds = ds_abs[i]\n",
    "        ax = axlist[i]\n",
    "        vari = ice_vars[i]\n",
    "        \n",
    "        for dsname, attrs in ds_names.items():\n",
    "            if attrs[0]:\n",
    "                da_abs = ds[dsname]\n",
    "    \n",
    "                # Plot absolute value, sie then siv\n",
    "                da_abs.plot(\n",
    "                    ax=ax, color=attrs[2], ls=attrs[3], x=period, zorder=attrs[4], label=ds_paper_names[dsname])\n",
    "    \n",
    "        # Formatting\n",
    "        ax.set_xlabel(xlabel)\n",
    "        ax.set_xlim(xlim)\n",
    "        ax.set_xticks(ticks=xtick_loc,labels=xtick_lbl)\n",
    "        ax.set_xticks(ticks=xtick_loc_min,minor=True)\n",
    "        ax.set_ylabel(sd_str+ylabelabs[vari])\n",
    "        ax.legend(fontsize=8, edgecolor='w',loc=legend_loc[time_avg])\n",
    "        ax.set_title('')\n",
    "        ax.grid(alpha=0.3)\n",
    "        ax.annotate(let_list[i],(0.1,0.1),xytext=(-10,0),ha='right',va='center',\n",
    "                    size=12,xycoords='axes fraction',textcoords='offset points')\n",
    "\n",
    "    SaveFig(fig, graph_type_str+'.abs', date_str, 'siev', note)\n",
    "\n",
    "    plt.close(fig)\n",
    "    "
   ]
  },
  {
   "cell_type": "markdown",
   "id": "31dda76c-341b-4836-a447-e9ac665cabca",
   "metadata": {},
   "source": [
    "## Spatial plots\n",
    "### Set up"
   ]
  },
  {
   "cell_type": "code",
   "execution_count": 17,
   "id": "46fb5c15-55e2-411d-92ae-6d600f893964",
   "metadata": {},
   "outputs": [],
   "source": [
    "if plot_types['spatial']:\n",
    "    if s_domain == 1:\n",
    "        proj = ccrs.NorthPolarStereo()\n",
    "        extent = [-180, 180, 50, 90]\n",
    "    elif s_domain == 2:\n",
    "        proj = ccrs.SouthPolarStereo()\n",
    "        extent = [-180, 180, -90, -50]\n",
    "\n",
    "    # Monthly\n",
    "    if time_avg == 0:\n",
    "        date_str = mon_str\n",
    "        period = 'time'\n",
    "    \n",
    "    # Latitude, longitude, and level names (ERA5 and the CESM produced datasets have different names)\n",
    "    xname = 'lon'\n",
    "    yname = 'lat'\n",
    "\n",
    "    # Determine width of plots\n",
    "    wdth = 2\n",
    "    hgt = 2 \n",
    "    \n",
    "    # Plot letter\n",
    "    plot_let_full = np.array(['a) ', 'b) ', 'c) ', 'd) '])\n",
    "    plot_let = plot_let_full[0:(wdth*hgt)].reshape((hgt, wdth))\n",
    "\n",
    "    # Do we add land features\n",
    "    addland = (comp == 'ice')"
   ]
  },
  {
   "cell_type": "code",
   "execution_count": 18,
   "id": "ac422a2d-8296-4d90-b149-66a32c8b5e61",
   "metadata": {},
   "outputs": [],
   "source": [
    "if plots['map'][0]:\n",
    "    graph_type_str = 'Map'\n",
    "\n",
    "    # Arctic min: Sept, max: March\n",
    "    if s_domain == 1:\n",
    "        index_list = np.array(['Sep','Mar'])\n",
    "        index_name = 'month'\n",
    "    # Antarctic min: Feb, max: Sept\n",
    "    elif s_domain == 2:\n",
    "        index_list = np.array(['Feb','Sep'])\n",
    "        index_name = 'month'\n",
    "        \n",
    "    figsz = (4*wdth,4*hgt)\n",
    "    sbpt_shp = (hgt,wdth)\n",
    "\n",
    "    # Plotting variables\n",
    "    mlevels = {'hi': np.array([0.0,0.01,0.10,0.50,1.0,1.5,2.0,2.5,3.0,4.0,5.0]),\n",
    "               'aice': np.array([0.0,0.05,0.10,0.15,0.20,0.30,0.40,0.50,0.60,0.70,0.80,0.90,0.95,1.00])}\n",
    "    mdlevels = {'hi': np.array([-1.5,-1.25,-1.0,-0.75,-0.5,-0.25,-0.01,0.0,0.01,0.25,0.5,0.75,1.0,1.25,1.5]),\n",
    "               'aice': np.array([-0.4,-0.3,-0.2,-0.15,-0.1,-0.01,0.0,0.01,0.1,0.15,0.2,0.3,0.4])}\n",
    "    mcmaps = {'hi': cm.devon,\n",
    "              'aice': cm.devon}\n",
    "    mdcmaps = {'hi': SubCmap(cm.vik, mdlevels['hi'], 'mid', np.array([0,0,0,0])),\n",
    "               'aice': SubCmap(cm.vik, mdlevels['aice'], 'mid', np.array([0,0,0,0]))}\n",
    "    mlabels = {'hi': ' sea ice thickness (m)',\n",
    "               'aice': ' sea ice concetration'}   "
   ]
  },
  {
   "cell_type": "markdown",
   "id": "0a6a9220-a298-4f09-9840-e8d13a8f9d12",
   "metadata": {},
   "source": [
    "### Data loading"
   ]
  },
  {
   "cell_type": "code",
   "execution_count": 19,
   "id": "83eed395-be9c-4c37-84f3-0beeb9b67c75",
   "metadata": {},
   "outputs": [
    {
     "name": "stdout",
     "output_type": "stream",
     "text": [
      "CPU times: user 982 ms, sys: 226 ms, total: 1.21 s\n",
      "Wall time: 1.28 s\n"
     ]
    }
   ],
   "source": [
    "%%time\n",
    "\n",
    "if plots['map'][0]:\n",
    "    # Load spatial averages\n",
    "    ds_sp = LoadData(graph_type_str, var, time_outstr)"
   ]
  },
  {
   "cell_type": "markdown",
   "id": "952cbe44-b67b-4303-85dc-f3d748101ce4",
   "metadata": {},
   "source": [
    "### Make plots"
   ]
  },
  {
   "cell_type": "code",
   "execution_count": 20,
   "id": "2a91c110-e5bf-4cf1-860d-5428bc8f4524",
   "metadata": {},
   "outputs": [
    {
     "name": "stdout",
     "output_type": "stream",
     "text": [
      "CPU times: user 4.26 s, sys: 34.1 ms, total: 4.3 s\n",
      "Wall time: 4.56 s\n"
     ]
    }
   ],
   "source": [
    "%%time\n",
    "\n",
    "if plots['map'][0] and file_bool:\n",
    "    \n",
    "    # Plotting of spatial patterns for sea ice concentration & thickness\n",
    "    # Setup figure\n",
    "    fig, axlist = plt.subplots(sbpt_shp[0], sbpt_shp[1], layout='constrained', subplot_kw=dict(projection=proj))\n",
    "    fig.set_size_inches(figsz[0],figsz[1])\n",
    "    \n",
    "    for i in np.arange(0,len(index_list)):\n",
    "        # Time index\n",
    "        t_index = {index_name:index_list[i]}\n",
    "\n",
    "        dm_sp = ds_sp['moremelt_rsnw0'].loc[t_index]\n",
    "        dc_sp = ds_sp['LENS2 piControl'].loc[t_index]\n",
    "        dd_sp = dm_sp-dc_sp\n",
    "\n",
    "        # Plot moremelt data\n",
    "        cax = dm_sp.plot.contourf(\n",
    "                ax=axlist[i,0], x=xname, y=yname, cmap=mcmaps[var], \n",
    "                levels=mlevels[var], add_colorbar=False,transform=ccrs.PlateCarree(),zorder=1)\n",
    "        \n",
    "        # Plot difference data\n",
    "        caxd = dd_sp.plot.contourf(\n",
    "                ax=axlist[i,1], x=xname, y=yname, cmap=mdcmaps[var], \n",
    "                levels=mdlevels[var], add_colorbar=False,transform=ccrs.PlateCarree(),zorder=1)\n",
    "        \n",
    "        # Formatting\n",
    "        AxisLabels(axlist[i,0], plot_let[i,0]+ds_paper_names['moremelt_rsnw0'], addland)\n",
    "        AxisLabels(axlist[i,1], plot_let[i,1]+ds_paper_names['moremelt_rsnw0']+' — '+ds_paper_names['LENS2 piControl'], addland)\n",
    "\n",
    "        # Add colorbar\n",
    "        cb = fig.colorbar(cax, ax=axlist[i,0], pad=0.1, shrink=0.75,fraction=0.1, extend='both', orientation='vertical')\n",
    "        cb.set_label(label=index_list[i]+mlabels[var], fontsize=12)\n",
    "        cb.ax.tick_params(labelsize=10)\n",
    "        cb.set_ticks(ticks=mlevels[var])\n",
    "    \n",
    "        # Add difference colorbar\n",
    "        cbd = fig.colorbar(caxd, ax=axlist[i,1], pad=0.1, shrink=0.75,fraction=0.1, extend='both', orientation='vertical')\n",
    "        cbd.set_label(label=index_list[i]+mlabels[var], fontsize=12)\n",
    "        cbd.ax.tick_params(labelsize=10)\n",
    "        cbd.set_ticks(ticks=mdlevels[var])\n",
    "\n",
    "    SaveFig(fig, graph_type_str, index_name, var, note)\n",
    "\n",
    "    plt.close(fig)"
   ]
  },
  {
   "cell_type": "code",
   "execution_count": null,
   "id": "4f33d2a7-0254-46b4-833e-ee830749e5aa",
   "metadata": {},
   "outputs": [],
   "source": []
  }
 ],
 "metadata": {
  "kernelspec": {
   "display_name": "Python [conda env:cenv]",
   "language": "python",
   "name": "conda-env-cenv-py"
  },
  "language_info": {
   "codemirror_mode": {
    "name": "ipython",
    "version": 3
   },
   "file_extension": ".py",
   "mimetype": "text/x-python",
   "name": "python",
   "nbconvert_exporter": "python",
   "pygments_lexer": "ipython3",
   "version": "3.12.2"
  }
 },
 "nbformat": 4,
 "nbformat_minor": 5
}
