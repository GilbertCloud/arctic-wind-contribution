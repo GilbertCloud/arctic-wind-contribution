{
 "cells": [
  {
   "cell_type": "markdown",
   "id": "ca749452-87e7-4275-b29a-999654360561",
   "metadata": {},
   "source": [
    "# Analysis notebook for moremelt piControl run\n",
    "## Set up\n",
    "### Packages"
   ]
  },
  {
   "cell_type": "code",
   "execution_count": 1,
   "id": "4ec0c162-355c-46a6-828a-f941fe06e113",
   "metadata": {},
   "outputs": [],
   "source": [
    "import numpy as np\n",
    "import xarray as xr\n",
    "import xesmf as xe\n",
    "import matplotlib.pyplot as plt\n",
    "from matplotlib.ticker import ScalarFormatter\n",
    "import pandas as pd\n",
    "import scipy\n",
    "from scipy import stats, interpolate\n",
    "import matplotlib as mpl\n",
    "from mpl_toolkits.axes_grid1.inset_locator import inset_axes\n",
    "from mpl_toolkits.axes_grid1 import make_axes_locatable\n",
    "from matplotlib.mathtext import _mathtext as mathtext\n",
    "import matplotlib.ticker as mticker\n",
    "from matplotlib import gridspec, animation\n",
    "import matplotlib.path as mpath\n",
    "import matplotlib.colors as colors\n",
    "import matplotlib.dates as mdates\n",
    "import cartopy\n",
    "import cartopy.crs as ccrs\n",
    "import cartopy.feature as cfeature\n",
    "from cartopy.util import add_cyclic_point\n",
    "from cartopy.mpl.gridliner import LONGITUDE_FORMATTER, LATITUDE_FORMATTER\n",
    "import warnings\n",
    "warnings.simplefilter('ignore', UserWarning)\n",
    "warnings.filterwarnings('ignore')\n",
    "import datetime as dt\n",
    "from datetime import timedelta\n",
    "from cmcrameri import cm\n",
    "from Processing_functions import FixLongitude, Wilks_pcrit\n",
    "import jinja2\n",
    "import cftime\n",
    "import dask\n",
    "from dask_jobqueue import PBSCluster\n",
    "from dask.distributed import Client\n",
    "from functools import partial\n",
    "from collections import defaultdict\n",
    "import os"
   ]
  },
  {
   "cell_type": "code",
   "execution_count": 2,
   "id": "c19ee4e5-8c0d-45bc-b5bd-1de946672acd",
   "metadata": {},
   "outputs": [],
   "source": [
    "## Plot types to make - CHANGE\n",
    "# 0: Weighted spatial mean or sea ice area\n",
    "# 1: Volume\n",
    "# 2: Leave alone (doing spatial map or sea ice concentration)\n",
    "plots = {\n",
    "    'map': [True, 2],\n",
    "    'ts': [False, 0],\n",
    "    'sie': [False, 0],\n",
    "    'siv': [False, 1]\n",
    "}\n",
    "\n",
    "## Categorical plot type - DO NOT CHANGE\n",
    "plot_types = {\n",
    "    'spatial': plots['map'][0],\n",
    "    'line': plots['ts'][0] or plots['siv'][0] or plots['sie'][0]\n",
    "}\n",
    "\n",
    "# Spatial domain - CHANGE s_domain & t_domain only\n",
    "s_domain = 2 # 0: Global, 1: Arctic, 2: Antarctic\n",
    "a_domain = plot_types['spatial'] # True: 50-90, False: 70-90\n",
    "t_domain = 911 # start year\n",
    "\n",
    "## Time averaging type - CHANGE\n",
    "time_avg = 0   # 0: Monthly, 1: Yearly, 2: Seasonal, 3: All data, 4: Timeseries\n",
    "\n",
    "# Variables - CHANGE\n",
    "comp = 'ice' # compset\n",
    "var_ind = 1\n",
    "\n",
    "# DO NOT CHANGE\n",
    "var_list = {'atm': ['TREFHT'],\n",
    "            'ice': ['aice', 'hi', 'hs']}\n",
    "var = var_list[comp][var_ind]"
   ]
  },
  {
   "cell_type": "code",
   "execution_count": 3,
   "id": "5d169a33-b96d-4a37-a482-5ed2e4babe1d",
   "metadata": {},
   "outputs": [],
   "source": [
    "## Test names\n",
    "# O: CMIP6 baseline\n",
    "# 1: lessmelt\n",
    "# 2: moremelt\n",
    "# attribute structure: [use dataset, dataset type]\n",
    "# CHANGE ONLY - use dataset\n",
    "ds_names = {\n",
    "    'LENS2 piControl': [True, 0],\n",
    "    'lessmelt piControl': [False, 1],\n",
    "    'moremelt_rsnw0': [True, 2]\n",
    "}\n",
    "vercompres = 'b.e21.B1850cmip6.f09_g17.'\n",
    "cesm2piC = 'b.e21.B1850.f09_g17.'\n",
    "\n",
    "## Filepaths - DO NOT CHANGE\n",
    "path_to_work = '/glade/work/glydia/'\n",
    "path_to_pidata = path_to_work+'processed_CESM2_LENS_data/moremelt_comparison/'\n",
    "path_to_lmdata = path_to_work+'processed_CESM2_lessmelt_data/'\n",
    "path_to_expdata = path_to_work+'Arctic_controls_processed_data/'\n",
    "path_to_plotdata  = path_to_expdata+'climo_plotting_data/'\n",
    "\n",
    "# Extensions - DO NOT CHANGE\n",
    "h_ext = {'atm': '.h0.',\n",
    "       'ice': '.h.'}\n",
    "yr_extn = \".*.\"\n",
    "vert_lev = {'atm': [False],\n",
    "            'ice': [False,False,False]}\n",
    "file_bool = not vert_lev[comp][var_ind]\n",
    "file_ext = {True: 'nc', False: 'zarr'}"
   ]
  },
  {
   "cell_type": "code",
   "execution_count": 4,
   "id": "4292bdd7-cfa3-4313-b4cc-2f41e01099d3",
   "metadata": {},
   "outputs": [],
   "source": [
    "########################## DO NOT CHANGE ANYTHING BELOW THIS LINE #############################"
   ]
  },
  {
   "cell_type": "code",
   "execution_count": 5,
   "id": "62938a12-2e19-4666-aa09-c5fa7d6a5ed7",
   "metadata": {},
   "outputs": [
    {
     "name": "stdout",
     "output_type": "stream",
     "text": [
      "CPU times: user 5 µs, sys: 1e+03 ns, total: 6 µs\n",
      "Wall time: 8.58 µs\n"
     ]
    }
   ],
   "source": [
    "%%time\n",
    "    \n",
    "## Select plot type\n",
    "time_str_list = {0: 'month', 1: 'year', 2: 'season', 3: 'all', 4: 'timeseries'}\n",
    "time_outstr = time_str_list[time_avg]\n",
    "\n",
    "## Select time and spatial domain strings\n",
    "sd_str_list = {0: 'Global', 1: 'Arctic', 2: 'Antarctic'}\n",
    "sd_str = sd_str_list[s_domain]\n",
    "td_str = str(t_domain).zfill(4)"
   ]
  },
  {
   "cell_type": "markdown",
   "id": "57a2f36b-80ac-4dc4-bb06-4ccbf2ea8b8e",
   "metadata": {},
   "source": [
    "### Cluster"
   ]
  },
  {
   "cell_type": "code",
   "execution_count": 6,
   "id": "9d2b079e-c454-47b5-9f39-da2604737b4c",
   "metadata": {},
   "outputs": [],
   "source": [
    "cluster = PBSCluster(cores    = 1,\n",
    "                     memory   = '50GiB',\n",
    "                     queue    = 'casper',\n",
    "                     walltime = '12:00:00',\n",
    "                     account  = 'UCUB0155',\n",
    "                     name='PiC_UVnudge_process_'+var)\n",
    "cluster.scale(4*9)\n",
    "client = Client(cluster)"
   ]
  },
  {
   "cell_type": "code",
   "execution_count": 7,
   "id": "efcbec8d-3070-48ea-b283-4604a6ef7957",
   "metadata": {
    "scrolled": true
   },
   "outputs": [
    {
     "data": {
      "text/html": [
       "<div>\n",
       "    <div style=\"width: 24px; height: 24px; background-color: #e1e1e1; border: 3px solid #9D9D9D; border-radius: 5px; position: absolute;\"> </div>\n",
       "    <div style=\"margin-left: 48px;\">\n",
       "        <h3 style=\"margin-bottom: 0px;\">Client</h3>\n",
       "        <p style=\"color: #9D9D9D; margin-bottom: 0px;\">Client-0abd7b48-1569-11f0-8981-3cecef1b11e8</p>\n",
       "        <table style=\"width: 100%; text-align: left;\">\n",
       "\n",
       "        <tr>\n",
       "        \n",
       "            <td style=\"text-align: left;\"><strong>Connection method:</strong> Cluster object</td>\n",
       "            <td style=\"text-align: left;\"><strong>Cluster type:</strong> dask_jobqueue.PBSCluster</td>\n",
       "        \n",
       "        </tr>\n",
       "\n",
       "        \n",
       "            <tr>\n",
       "                <td style=\"text-align: left;\">\n",
       "                    <strong>Dashboard: </strong> <a href=\"https://jupyterhub.hpc.ucar.edu/stable/user/glydia/Arctic_breakdown/proxy/42753/status\" target=\"_blank\">https://jupyterhub.hpc.ucar.edu/stable/user/glydia/Arctic_breakdown/proxy/42753/status</a>\n",
       "                </td>\n",
       "                <td style=\"text-align: left;\"></td>\n",
       "            </tr>\n",
       "        \n",
       "\n",
       "        </table>\n",
       "\n",
       "        \n",
       "            <button style=\"margin-bottom: 12px;\" data-commandlinker-command=\"dask:populate-and-launch-layout\" data-commandlinker-args='{\"url\": \"https://jupyterhub.hpc.ucar.edu/stable/user/glydia/Arctic_breakdown/proxy/42753/status\" }'>\n",
       "                Launch dashboard in JupyterLab\n",
       "            </button>\n",
       "        \n",
       "\n",
       "        \n",
       "            <details>\n",
       "            <summary style=\"margin-bottom: 20px;\"><h3 style=\"display: inline;\">Cluster Info</h3></summary>\n",
       "            <div class=\"jp-RenderedHTMLCommon jp-RenderedHTML jp-mod-trusted jp-OutputArea-output\">\n",
       "    <div style=\"width: 24px; height: 24px; background-color: #e1e1e1; border: 3px solid #9D9D9D; border-radius: 5px; position: absolute;\">\n",
       "    </div>\n",
       "    <div style=\"margin-left: 48px;\">\n",
       "        <h3 style=\"margin-bottom: 0px; margin-top: 0px;\">PBSCluster</h3>\n",
       "        <p style=\"color: #9D9D9D; margin-bottom: 0px;\">PiC_UVnudge_process_hi</p>\n",
       "        <table style=\"width: 100%; text-align: left;\">\n",
       "            <tr>\n",
       "                <td style=\"text-align: left;\">\n",
       "                    <strong>Dashboard:</strong> <a href=\"https://jupyterhub.hpc.ucar.edu/stable/user/glydia/Arctic_breakdown/proxy/42753/status\" target=\"_blank\">https://jupyterhub.hpc.ucar.edu/stable/user/glydia/Arctic_breakdown/proxy/42753/status</a>\n",
       "                </td>\n",
       "                <td style=\"text-align: left;\">\n",
       "                    <strong>Workers:</strong> 0\n",
       "                </td>\n",
       "            </tr>\n",
       "            <tr>\n",
       "                <td style=\"text-align: left;\">\n",
       "                    <strong>Total threads:</strong> 0\n",
       "                </td>\n",
       "                <td style=\"text-align: left;\">\n",
       "                    <strong>Total memory:</strong> 0 B\n",
       "                </td>\n",
       "            </tr>\n",
       "            \n",
       "        </table>\n",
       "\n",
       "        <details>\n",
       "            <summary style=\"margin-bottom: 20px;\">\n",
       "                <h3 style=\"display: inline;\">Scheduler Info</h3>\n",
       "            </summary>\n",
       "\n",
       "            <div style=\"\">\n",
       "    <div>\n",
       "        <div style=\"width: 24px; height: 24px; background-color: #FFF7E5; border: 3px solid #FF6132; border-radius: 5px; position: absolute;\"> </div>\n",
       "        <div style=\"margin-left: 48px;\">\n",
       "            <h3 style=\"margin-bottom: 0px;\">Scheduler</h3>\n",
       "            <p style=\"color: #9D9D9D; margin-bottom: 0px;\">Scheduler-4ddbb912-0ef2-45ea-880c-ebbec5679e82</p>\n",
       "            <table style=\"width: 100%; text-align: left;\">\n",
       "                <tr>\n",
       "                    <td style=\"text-align: left;\">\n",
       "                        <strong>Comm:</strong> tcp://128.117.208.98:46005\n",
       "                    </td>\n",
       "                    <td style=\"text-align: left;\">\n",
       "                        <strong>Workers:</strong> 0\n",
       "                    </td>\n",
       "                </tr>\n",
       "                <tr>\n",
       "                    <td style=\"text-align: left;\">\n",
       "                        <strong>Dashboard:</strong> <a href=\"https://jupyterhub.hpc.ucar.edu/stable/user/glydia/Arctic_breakdown/proxy/42753/status\" target=\"_blank\">https://jupyterhub.hpc.ucar.edu/stable/user/glydia/Arctic_breakdown/proxy/42753/status</a>\n",
       "                    </td>\n",
       "                    <td style=\"text-align: left;\">\n",
       "                        <strong>Total threads:</strong> 0\n",
       "                    </td>\n",
       "                </tr>\n",
       "                <tr>\n",
       "                    <td style=\"text-align: left;\">\n",
       "                        <strong>Started:</strong> Just now\n",
       "                    </td>\n",
       "                    <td style=\"text-align: left;\">\n",
       "                        <strong>Total memory:</strong> 0 B\n",
       "                    </td>\n",
       "                </tr>\n",
       "            </table>\n",
       "        </div>\n",
       "    </div>\n",
       "\n",
       "    <details style=\"margin-left: 48px;\">\n",
       "        <summary style=\"margin-bottom: 20px;\">\n",
       "            <h3 style=\"display: inline;\">Workers</h3>\n",
       "        </summary>\n",
       "\n",
       "        \n",
       "\n",
       "    </details>\n",
       "</div>\n",
       "\n",
       "        </details>\n",
       "    </div>\n",
       "</div>\n",
       "            </details>\n",
       "        \n",
       "\n",
       "    </div>\n",
       "</div>"
      ],
      "text/plain": [
       "<Client: 'tcp://128.117.208.98:46005' processes=0 threads=0, memory=0 B>"
      ]
     },
     "execution_count": 7,
     "metadata": {},
     "output_type": "execute_result"
    }
   ],
   "source": [
    "client"
   ]
  },
  {
   "cell_type": "markdown",
   "id": "56e55d42-5af5-48f9-b26a-b9a0f93a4770",
   "metadata": {
    "jp-MarkdownHeadingCollapsed": true
   },
   "source": [
    "### Custom functions"
   ]
  },
  {
   "cell_type": "markdown",
   "id": "012b41d4-d8d5-4c29-993a-3c2978eb0a2f",
   "metadata": {},
   "source": [
    "#### LoadData"
   ]
  },
  {
   "cell_type": "code",
   "execution_count": 8,
   "id": "10bf5069-532f-4252-9bbc-24350643b95c",
   "metadata": {},
   "outputs": [],
   "source": [
    "def LoadData(casename, set_type, varname):\n",
    "    # Create file name\n",
    "    if set_type == 0:\n",
    "        filename = cesm2piC+'CMIP6-piControl.001'+h_ext[comp]+varname+yr_extn+file_ext[file_bool]\n",
    "        totalpath = path_to_pidata+filename\n",
    "    elif set_type == 1:\n",
    "        filename = cesm2piC+'CMIP6-piControl.001_branch2'+h_ext[comp]+varname+yr_extn+file_ext[file_bool]\n",
    "        totalpath = path_to_lmdata+filename\n",
    "    else:\n",
    "        filename = vercompres+casename+h_ext[comp]+varname+yr_extn+file_ext[file_bool]\n",
    "        totalpath = path_to_expdata+'processed_'+casename+'_data/'+filename\n",
    "\n",
    "    # Load\n",
    "    data = xr.open_mfdataset(totalpath)\n",
    "    return data"
   ]
  },
  {
   "cell_type": "code",
   "execution_count": 9,
   "id": "f2e72694-3aa4-4b42-b3ea-20ee4de4db17",
   "metadata": {},
   "outputs": [],
   "source": [
    "# Set spatial domain slicing\n",
    "slice_icemod = {1: dict(nj=slice(250,385)), 2: dict(nj=slice(0,250))}\n",
    "slice_atmwei = dict(lat=slice(70,90))\n",
    "slice_time = dict(time=slice(td_str+'-01-01',str(t_domain+199).zfill(4)+'-12-31'))"
   ]
  },
  {
   "cell_type": "markdown",
   "id": "f6c8d6a3-0ddd-428c-8840-fb41ad700abe",
   "metadata": {},
   "source": [
    "#### CreateMasterDS"
   ]
  },
  {
   "cell_type": "code",
   "execution_count": 10,
   "id": "6485574e-4a76-4506-b2ba-e3e00cc8b4b4",
   "metadata": {},
   "outputs": [],
   "source": [
    "def CreateMasterDS(varname):\n",
    "    ds_load_list = []\n",
    "\n",
    "    # Find which plots will be made\n",
    "    funcstr = None\n",
    "    for plotname, attrs in plots.items():\n",
    "        # If plot will be made\n",
    "        if attrs[0]:\n",
    "            # If weighted spatial average or sea ice extent\n",
    "            if attrs[1] == 0:\n",
    "                funcstr = 'S' if comp == 'ice' else 'W'\n",
    "                break\n",
    "            # If sea ice volume\n",
    "            elif attrs[1] == 1:\n",
    "                funcstr = 'V'\n",
    "                break\n",
    "\n",
    "    print('Figure out processing calculations to do')\n",
    "\n",
    "    ## Load all datasets\n",
    "    # Load each dataset\n",
    "    for dsname, attrs in ds_names.items():\n",
    "        # If dataset is going to be plotted\n",
    "        if attrs[0]:\n",
    "            print(dsname)\n",
    "            ds_load = LoadData(dsname, attrs[1], varname)\n",
    "    \n",
    "            # Reduce to dataarray\n",
    "            ds_load = ds_load[varname]\n",
    "        \n",
    "            # Rename dataarray name to be casename\n",
    "            ds_load = ds_load.rename(dsname)\n",
    "            \n",
    "            print('  Initial data loading complete')\n",
    "\n",
    "            ## Do weighted averages, ensemble means, sea ice area calculations, and area maximums\n",
    "            # Do spatial domain slicing\n",
    "            # ICE\n",
    "            if comp == 'ice':\n",
    "                ds_load = ds_load.loc[slice_icemod[s_domain]]\n",
    "            # ATMOSPHERE\n",
    "            else: \n",
    "                if s_domain == 1:\n",
    "                    ds_load = ds_load.loc[slice_atmwei]\n",
    "\n",
    "            print('  Sliced data')\n",
    "                    \n",
    "            # Sort processing by variable and graph type\n",
    "            # Doing spatial plot or SIC\n",
    "            if funcstr == None:\n",
    "                print('  No proceesing, spatial')\n",
    "                # If ERA5, rename lat/lon     \n",
    "            # Doing SIA plot(s)\n",
    "            elif funcstr == 'S':\n",
    "                print('  Calculating sea ice area')\n",
    "                ds_load = CalcSIA(ds_load, attrs[1])\n",
    "            # Doing SIV plot(s)\n",
    "            elif funcstr == 'V':\n",
    "                print('  Calculating sea ice volume')\n",
    "                ds_load = CalcSIV(ds_load)\n",
    "            # Doing ts or TOA plot(s)\n",
    "            elif funcstr == 'W':\n",
    "                print('  Calculating weighted average')\n",
    "                ds_load = CalcWeightedMean(ds_load)\n",
    "\n",
    "            ds_load = ds_load.rename(dsname)\n",
    "\n",
    "            print('  Processing on dataset complete')\n",
    "            ds_load_list.append(ds_load)\n",
    "    \n",
    "    # Merge dataarrays\n",
    "    ds_proc = xr.merge(ds_load_list)\n",
    "\n",
    "    print('All datasets merged')\n",
    "    \n",
    "    return ds_proc"
   ]
  },
  {
   "cell_type": "markdown",
   "id": "4350b619-92cf-4723-993d-9c2681bd6e21",
   "metadata": {},
   "source": [
    "#### CalcWeightedMean"
   ]
  },
  {
   "cell_type": "code",
   "execution_count": 11,
   "id": "0c4806ab-c49b-42fc-bae6-06671098a274",
   "metadata": {},
   "outputs": [],
   "source": [
    "def CalcWeightedMean(ds):\n",
    "    # Set up\n",
    "    avg_dim = ('lon','lat')\n",
    "\n",
    "    # Create weights\n",
    "    weights = np.cos(np.deg2rad(ds.lat))\n",
    "    weights.compute()\n",
    "\n",
    "    # Weight data\n",
    "    ds_w = ds.weighted(weights)\n",
    "\n",
    "    # Calculate weighted mean\n",
    "    ds_mean_w = ds_w.mean(avg_dim, skipna=True)\n",
    "\n",
    "    ds_mean_w.compute()\n",
    "    \n",
    "    return ds_mean_w"
   ]
  },
  {
   "cell_type": "markdown",
   "id": "60e33c71-aef2-4033-870a-865c603f5805",
   "metadata": {},
   "source": [
    "#### Regrid"
   ]
  },
  {
   "cell_type": "code",
   "execution_count": 12,
   "id": "95a597fb-2fae-473f-a84c-fa6cac79e46e",
   "metadata": {},
   "outputs": [],
   "source": [
    "def Regrid(ds_timeavg, regridder):\n",
    "    print('Regridding CICE grid -> ATM grid...')\n",
    "\n",
    "    # Do fillna if regridding sic/sit\n",
    "    nval = 0.000001\n",
    "\n",
    "    # Regrid data\n",
    "    regrid_list = []\n",
    "    for dsname, da in ds_timeavg.items():\n",
    "        print('Regridding '+dsname)\n",
    "        da_re = regridder(da)\n",
    "\n",
    "        # Rename x, y to be lon, lat and reassign lon and lat data (which includes cyclic point)\n",
    "        da_re = da_re.rename({'x':'lon', 'y':'lat'})\n",
    "\n",
    "        # Only fillna for sic/sit\n",
    "        da_re = da_re.assign_coords({'lon':lons, 'lat': lats})\n",
    "        da_re = da_re.fillna(nval)\n",
    "            \n",
    "        regrid_list.append(da_re.rename(dsname))\n",
    "        \n",
    "    ds_regrid = xr.merge(regrid_list)\n",
    "\n",
    "    return ds_regrid"
   ]
  },
  {
   "cell_type": "markdown",
   "id": "727a8f23-39c3-4c73-b3a5-073a8f2125df",
   "metadata": {},
   "source": [
    "#### CalcSIA"
   ]
  },
  {
   "cell_type": "code",
   "execution_count": 13,
   "id": "dfc27f96-e5c7-4984-8c82-0e9e022a66dd",
   "metadata": {},
   "outputs": [],
   "source": [
    "def CalcSIA(ds, set_type):\n",
    "    # Extracts aice variable and only counts cells with sic > 15%\n",
    "    ds_aice = ds\n",
    "    ds_aice = xr.where(ds_aice > .15,1,0)\n",
    "\n",
    "    # Multiples selected sic cells with tarea, then only selects Arctic sea ice, sums over the entire domain, then converts to km2\n",
    "    dsa = (ds_aice*ds['tarea']).sum(dim=['ni','nj'])*1e-6*1e-6\n",
    "\n",
    "    # Modifies attributes of DataArray accordingly\n",
    "    dsa.attrs['units'] = 'million km^2'\n",
    "    dsa.attrs['long_name'] = 'sea ice extent'\n",
    "\n",
    "    # Assigns new variable to dataset and returns original dataset\n",
    "    return dsa"
   ]
  },
  {
   "cell_type": "markdown",
   "id": "e9d29f46-ff59-4028-b484-cb7e2eee551b",
   "metadata": {},
   "source": [
    "#### CalcSIV"
   ]
  },
  {
   "cell_type": "code",
   "execution_count": 14,
   "id": "3fc49d88-c10f-41ef-b116-24f79902b1d8",
   "metadata": {},
   "outputs": [],
   "source": [
    "def CalcSIV(ds):\n",
    "    # Calculates SIV, given ice domain already sliced, converts to \n",
    "    dsvol = (ds*ds['tarea']).sum(dim=['ni','nj'])*1.0e-13\n",
    "    \n",
    "    # Modifies attributes of DataArray accordinging\n",
    "    dsvol.attrs['units'] = '10^13 m^3'\n",
    "    dsvol.attrs['long_name'] = 'sea ice volume'\n",
    "\n",
    "    return dsvol"
   ]
  },
  {
   "cell_type": "markdown",
   "id": "d67f7bc0-56f7-4cd4-805d-4eed6436088e",
   "metadata": {},
   "source": [
    "#### AddCoordTrend"
   ]
  },
  {
   "cell_type": "code",
   "execution_count": 15,
   "id": "5d113c47-e6ae-4f26-8342-a910fa84baa2",
   "metadata": {},
   "outputs": [],
   "source": [
    "def AddCoordTrend(da, time_type):\n",
    "    da_sizes = da.sizes\n",
    "    new_time = np.arange(1,da_sizes[time_type]+1)\n",
    "    if time_type == 'time':\n",
    "        da = da.assign_coords(time=new_time)\n",
    "    elif time_type == 'year':\n",
    "        da = da.assign_coords(year=new_time)\n",
    "    return da"
   ]
  },
  {
   "cell_type": "markdown",
   "id": "4af7e0de-f588-464c-92aa-ab7c26877816",
   "metadata": {},
   "source": [
    "#### AddCyclic"
   ]
  },
  {
   "cell_type": "code",
   "execution_count": 16,
   "id": "597ab0e8-bc28-4634-9969-6c00225569f5",
   "metadata": {},
   "outputs": [],
   "source": [
    "def AddCyclic(da: xr.DataArray, londim) -> xr.DataArray:\n",
    "    # Add cyclic point\n",
    "    cyclic_data, cyclic_lon = add_cyclic_point(da.data, coord=da[londim])\n",
    "    cyclic_coords = {dim: da.coords[dim] for dim in da.dims}\n",
    "    cyclic_coords[londim] = cyclic_lon\n",
    "\n",
    "    da = xr.DataArray(cyclic_data, dims=da.dims, coords=cyclic_coords, attrs=da.attrs, name=da.name)\n",
    "    return da"
   ]
  },
  {
   "cell_type": "markdown",
   "id": "edf7c0aa-0932-42a1-97e2-e17c3c1a5853",
   "metadata": {},
   "source": [
    "#### SpatZonAvg"
   ]
  },
  {
   "cell_type": "code",
   "execution_count": 17,
   "id": "0645dc25-d32d-4891-b121-262f6cbc9557",
   "metadata": {},
   "outputs": [],
   "source": [
    "def SpatZonAvg(ds):\n",
    "    # Calculating averages\n",
    "    if time_avg == 0:\n",
    "        ds_avg = ds.groupby('time.month').mean('time')\n",
    "        ds_avg = ds_avg.assign_coords(month=mon_str)\n",
    "        \n",
    "    # Seasonal averaging\n",
    "    elif time_avg == 2:\n",
    "        ds_avg = ds.resample(time='QS-DEC').mean('time')\n",
    "        ds_avg = ds_avg.groupby('time.month').mean('time')\n",
    "        ds_avg = ds_avg.assign_coords(month=seas_str)\n",
    "        ds_avg = ds_avg.rename({'month':'season'})\n",
    "\n",
    "    return ds_avg"
   ]
  },
  {
   "cell_type": "markdown",
   "id": "884e7baa-fcac-4c8c-b24d-86f0188fa8a1",
   "metadata": {},
   "source": [
    "#### AddAllCyclic"
   ]
  },
  {
   "cell_type": "code",
   "execution_count": 18,
   "id": "ff4fe468-dc38-49c8-b78b-7bc53e451956",
   "metadata": {},
   "outputs": [],
   "source": [
    "def AddAllCyclic(ds):\n",
    "    londim = 'lon'\n",
    "    latdim = 'lat'\n",
    "    \n",
    "    cyclic_ds_list = []\n",
    "        \n",
    "    for dsname, da in ds.items():\n",
    "        da = da.transpose(time_outstr, latdim,londim)\n",
    "        da_cyc = AddCyclic(da, londim)\n",
    "            \n",
    "        cyclic_ds_list.append(da_cyc.rename(dsname))\n",
    "            \n",
    "    ds = xr.merge(cyclic_ds_list)\n",
    "\n",
    "    return ds"
   ]
  },
  {
   "cell_type": "markdown",
   "id": "05316d5e-f13b-4cc7-ab51-0dedfb47392f",
   "metadata": {},
   "source": [
    "#### SaveData"
   ]
  },
  {
   "cell_type": "code",
   "execution_count": 19,
   "id": "b86e86b4-6ec9-4718-b32a-f4d0e6abe5ee",
   "metadata": {},
   "outputs": [],
   "source": [
    "def SaveData(ds, plot_type, varname, tavg, plot_level=None):\n",
    "    level_str = '' if plot_level == None else 'Z'+str(int(plot_level))+'.'\n",
    "    \n",
    "    filename = plot_type+'.'+varname+'.'+sd_str+'.'+level_str+td_str+'.'+tavg+'.nc'\n",
    "    \n",
    "    print('Saving '+filename)\n",
    "    # File format is:\n",
    "    # (plot type, including special averaging, i.e. anomalies).varname.spatialdomain.timedomain.timeaveraging.ensemble_type.nc\n",
    "    ds.to_netcdf(path_to_plotdata+filename,\n",
    "                format='NETCDF4')\n",
    "    return None"
   ]
  },
  {
   "cell_type": "code",
   "execution_count": 20,
   "id": "5935635e-f120-4132-a505-e51663931233",
   "metadata": {},
   "outputs": [],
   "source": [
    "hix = xr.open_dataset('/glade/work/glydia/Arctic_controls_processed_data/processed_moremelt_rsnw0_data/b.e21.B1850cmip6.f09_g17.moremelt_rsnw0.h.hi.101101-106012.nc')"
   ]
  },
  {
   "cell_type": "markdown",
   "id": "2c8dfd0d-3e9b-4e7a-a1d4-f6c77aee3914",
   "metadata": {},
   "source": [
    "### Process and load data"
   ]
  },
  {
   "cell_type": "code",
   "execution_count": 21,
   "id": "0f060146-ba1c-422b-a811-964274ede89c",
   "metadata": {},
   "outputs": [
    {
     "name": "stdout",
     "output_type": "stream",
     "text": [
      "Figure out processing calculations to do\n",
      "LENS2 piControl\n",
      "  Initial data loading complete\n",
      "  Sliced data\n",
      "  No proceesing, spatial\n",
      "  Processing on dataset complete\n",
      "moremelt_rsnw0\n",
      "  Initial data loading complete\n",
      "  Sliced data\n",
      "  No proceesing, spatial\n",
      "  Processing on dataset complete\n",
      "All datasets merged\n",
      "CPU times: user 2.06 s, sys: 443 ms, total: 2.5 s\n",
      "Wall time: 59.6 s\n"
     ]
    }
   ],
   "source": [
    "%%time\n",
    "\n",
    "ds_proc = CreateMasterDS(var)"
   ]
  },
  {
   "cell_type": "code",
   "execution_count": 22,
   "id": "0b8c5f7e-64ff-4e77-91e7-08c7f9259b34",
   "metadata": {},
   "outputs": [],
   "source": [
    "ds_proc = ds_proc.loc[slice_time]"
   ]
  },
  {
   "cell_type": "markdown",
   "id": "e417424a-da41-463c-9ddf-9739a411c8f2",
   "metadata": {},
   "source": [
    "### Plotting set-up"
   ]
  },
  {
   "cell_type": "code",
   "execution_count": 23,
   "id": "3d8dc3eb-9780-40b0-bb80-fbd06fdbe74a",
   "metadata": {},
   "outputs": [
    {
     "name": "stdout",
     "output_type": "stream",
     "text": [
      "CPU times: user 13 µs, sys: 2 µs, total: 15 µs\n",
      "Wall time: 17.4 µs\n"
     ]
    }
   ],
   "source": [
    "%%time\n",
    "\n",
    "mon_str = np.array(['Jan','Feb','Mar','Apr','May','Jun','Jul','Aug','Sep','Oct','Nov','Dec'])\n"
   ]
  },
  {
   "cell_type": "markdown",
   "id": "0797221f-ed65-4e23-a96d-9c7cad05e8cf",
   "metadata": {},
   "source": [
    "## Line plots\n",
    "### Set up"
   ]
  },
  {
   "cell_type": "code",
   "execution_count": 24,
   "id": "7a2d71d2-7dce-4b60-be14-77c7a8b33971",
   "metadata": {},
   "outputs": [],
   "source": [
    "if plot_types['line']:\n",
    "    graph_type_str = 'Linear'\n",
    "        \n",
    "    # Time averaging for yearly plot\n",
    "    if time_avg == 1:\n",
    "        dim_avg = 'time.year'  \n",
    "        period= 'year'\n",
    "        \n",
    "    if time_avg == 0:\n",
    "        dim_avg = 'time.month'\n",
    "        period = 'month'   "
   ]
  },
  {
   "cell_type": "markdown",
   "id": "fb5be72b-e7ff-4635-ac88-bd6adaae97e2",
   "metadata": {},
   "source": [
    "### Data processing"
   ]
  },
  {
   "cell_type": "code",
   "execution_count": 25,
   "id": "5a06a0a0-cf51-4a57-88e3-c6e481f7599a",
   "metadata": {},
   "outputs": [
    {
     "name": "stdout",
     "output_type": "stream",
     "text": [
      "CPU times: user 3 µs, sys: 0 ns, total: 3 µs\n",
      "Wall time: 5.72 µs\n"
     ]
    }
   ],
   "source": [
    "%%time\n",
    "\n",
    "if plot_types['line']:\n",
    "    ds_abs = ds_proc.groupby(dim_avg).mean('time')\n",
    "\n",
    "    if time_avg == 0:\n",
    "        ds_abs = ds_abs.assign_coords(month=mon_str)\n",
    "\n",
    "    SaveData(ds_abs, graph_type_str+'.abs', var, period)"
   ]
  },
  {
   "cell_type": "markdown",
   "id": "f4c5bd11-9c4c-4fdb-a759-ffb7d15f293a",
   "metadata": {},
   "source": [
    "## Create Regridders"
   ]
  },
  {
   "cell_type": "code",
   "execution_count": 26,
   "id": "18094d5a-0b41-4f6c-a6c4-945fc958f218",
   "metadata": {},
   "outputs": [
    {
     "name": "stdout",
     "output_type": "stream",
     "text": [
      "CPU times: user 5.03 s, sys: 47.5 ms, total: 5.07 s\n",
      "Wall time: 5.62 s\n"
     ]
    }
   ],
   "source": [
    "%%time\n",
    "\n",
    "## Only run after time averaging!!!\n",
    "lats = np.array([-90, -89.0575916230366, -88.1151832460733, -87.1727748691099, \n",
    "    -86.2303664921466, -85.2879581151832, -84.3455497382199, -83.4031413612565, \n",
    "    -82.4607329842932, -81.5183246073298, -80.5759162303665, -79.6335078534031, \n",
    "    -78.6910994764398, -77.7486910994764, -76.8062827225131, -75.8638743455497, \n",
    "    -74.9214659685864, -73.979057591623, -73.0366492146597, -72.0942408376963, \n",
    "    -71.151832460733, -70.2094240837696, -69.2670157068063, -68.3246073298429, \n",
    "    -67.3821989528796, -66.4397905759162, -65.4973821989529, -64.5549738219895, \n",
    "    -63.6125654450262, -62.6701570680628, -61.7277486910995, -60.7853403141361,\n",
    "    -59.8429319371728, -58.9005235602094, -57.9581151832461, -57.0157068062827, \n",
    "    -56.0732984293194, -55.130890052356, -54.1884816753927, -53.2460732984293, \n",
    "    -52.303664921466, -51.3612565445026, -50.4188481675393, -49.4764397905759, \n",
    "    -48.5340314136126, -47.5916230366492, -46.6492146596859, -45.7068062827225, \n",
    "    -44.7643979057592, -43.8219895287958, -42.8795811518325, -41.9371727748691,\n",
    "    -40.9947643979058, -40.0523560209424, -39.1099476439791, -38.1675392670157, \n",
    "    -37.2251308900524, -36.282722513089, -35.3403141361257, -34.3979057591623, \n",
    "    -33.455497382199, -32.5130890052356, -31.5706806282722, -30.6282722513089, \n",
    "    -29.6858638743456, -28.7434554973822, -27.8010471204189, -26.8586387434555, \n",
    "    -25.9162303664921, -24.9738219895288, -24.0314136125654, -23.0890052356021, \n",
    "    -22.1465968586387, -21.2041884816754, -20.261780104712, -19.3193717277487, \n",
    "    -18.3769633507853, -17.434554973822, -16.4921465968586, -15.5497382198953, \n",
    "    -14.6073298429319, -13.6649214659686, -12.7225130890052, -11.7801047120419, \n",
    "    -10.8376963350785, -9.89528795811519, -8.95287958115183, -8.01047120418848, \n",
    "    -7.06806282722513, -6.12565445026178, -5.18324607329843, -4.24083769633508, \n",
    "    -3.29842931937173, -2.35602094240838, -1.41361256544502, -0.471204188481678, \n",
    "    0.471204188481678, 1.41361256544502, 2.35602094240838, 3.29842931937172, \n",
    "    4.24083769633508, 5.18324607329843, 6.12565445026178, 7.06806282722513, \n",
    "    8.01047120418848, 8.95287958115183, 9.89528795811518, 10.8376963350785, \n",
    "    11.7801047120419, 12.7225130890052, 13.6649214659686, 14.6073298429319, \n",
    "    15.5497382198953, 16.4921465968586, 17.434554973822, 18.3769633507853, \n",
    "    19.3193717277487, 20.261780104712, 21.2041884816754, 22.1465968586387, \n",
    "    23.0890052356021, 24.0314136125654, 24.9738219895288, 25.9162303664921, \n",
    "    26.8586387434555, 27.8010471204188, 28.7434554973822, 29.6858638743455, \n",
    "    30.6282722513089, 31.5706806282723, 32.5130890052356, 33.455497382199, \n",
    "    34.3979057591623, 35.3403141361257, 36.282722513089, 37.2251308900524, \n",
    "    38.1675392670157, 39.1099476439791, 40.0523560209424, 40.9947643979058, \n",
    "    41.9371727748691, 42.8795811518325, 43.8219895287958, 44.7643979057592, \n",
    "    45.7068062827225, 46.6492146596859, 47.5916230366492, 48.5340314136126, \n",
    "    49.4764397905759,50.4188481675393, 51.3612565445026, 52.303664921466, \n",
    "    53.2460732984293, 54.1884816753927, 55.130890052356, 56.0732984293194, \n",
    "    57.0157068062827, 57.9581151832461, 58.9005235602094, 59.8429319371728, \n",
    "    60.7853403141361, 61.7277486910995, 62.6701570680628, 63.6125654450262, \n",
    "    64.5549738219895, 65.4973821989529, 66.4397905759162, 67.3821989528796, \n",
    "    68.3246073298429, 69.2670157068063, 70.2094240837696, 71.151832460733, \n",
    "    72.0942408376963, 73.0366492146597, 73.979057591623, 74.9214659685864, \n",
    "    75.8638743455497, 76.8062827225131, 77.7486910994764, 78.6910994764398, \n",
    "    79.6335078534031, 80.5759162303665, 81.5183246073298, 82.4607329842932, \n",
    "    83.4031413612565, 84.3455497382199, 85.2879581151832, 86.2303664921466, \n",
    "    87.17277486911, 88.1151832460733, 89.0575916230366, 90])\n",
    "lons = np.array([-180, -178.75, -177.5, -176.25, -175, -173.75, -172.5, -171.25, -170, \n",
    "    -168.75, -167.5, -166.25, -165, -163.75, -162.5, -161.25, -160, -158.75, \n",
    "    -157.5, -156.25, -155, -153.75, -152.5, -151.25, -150, -148.75, -147.5, \n",
    "    -146.25, -145, -143.75, -142.5, -141.25, -140, -138.75, -137.5, -136.25, \n",
    "    -135, -133.75, -132.5, -131.25, -130, -128.75, -127.5, -126.25, -125, \n",
    "    -123.75, -122.5, -121.25, -120, -118.75, -117.5, -116.25, -115, -113.75, \n",
    "    -112.5, -111.25, -110, -108.75, -107.5, -106.25, -105, -103.75, -102.5, \n",
    "    -101.25, -100, -98.75, -97.5, -96.25, -95, -93.75, -92.5, -91.25, -90, \n",
    "    -88.75, -87.5, -86.25, -85, -83.75, -82.5, -81.25, -80, -78.75, -77.5, \n",
    "    -76.25, -75, -73.75, -72.5, -71.25, -70, -68.75, -67.5, -66.25, -65, \n",
    "    -63.75, -62.5, -61.25, -60, -58.75, -57.5, -56.25, -55, -53.75, -52.5, \n",
    "    -51.25, -50, -48.75, -47.5, -46.25, -45, -43.75, -42.5, -41.25, -40, \n",
    "    -38.75, -37.5, -36.25, -35, -33.75, -32.5, -31.25, -30, -28.75, -27.5, \n",
    "    -26.25, -25, -23.75, -22.5, -21.25, -20, -18.75, -17.5, -16.25, -15, \n",
    "    -13.75, -12.5, -11.25, -10, -8.75, -7.5, -6.25, -5, -3.75, -2.5, -1.25, \n",
    "    0, 1.25, 2.5, 3.75, 5, 6.25, 7.5, 8.75, 10, 11.25, 12.5, 13.75, 15, \n",
    "    16.25, 17.5, 18.75, 20, 21.25, 22.5, 23.75, 25, 26.25, 27.5, 28.75, 30, \n",
    "    31.25, 32.5, 33.75, 35, 36.25, 37.5, 38.75, 40, 41.25, 42.5, 43.75, 45, \n",
    "    46.25, 47.5, 48.75, 50, 51.25, 52.5, 53.75, 55, 56.25, 57.5, 58.75, 60, \n",
    "    61.25, 62.5, 63.75, 65, 66.25, 67.5, 68.75, 70, 71.25, 72.5, 73.75, 75, \n",
    "    76.25, 77.5, 78.75, 80, 81.25, 82.5, 83.75, 85, 86.25, 87.5, 88.75, 90, \n",
    "    91.25, 92.5, 93.75, 95, 96.25, 97.5, 98.75, 100, 101.25, 102.5, 103.75, \n",
    "    105, 106.25, 107.5, 108.75, 110, 111.25, 112.5, 113.75, 115, 116.25, \n",
    "    117.5, 118.75, 120, 121.25, 122.5, 123.75, 125, 126.25, 127.5, 128.75, \n",
    "    130, 131.25, 132.5, 133.75, 135, 136.25, 137.5, 138.75, 140, 141.25, \n",
    "    142.5, 143.75, 145, 146.25, 147.5, 148.75, 150, 151.25, 152.5, 153.75, \n",
    "    155, 156.25, 157.5, 158.75, 160, 161.25, 162.5, 163.75, 165, 166.25, \n",
    "    167.5, 168.75, 170, 171.25, 172.5, 173.75, 175, 176.25, 177.5, 178.75])\n",
    "\n",
    "# NEITHER REGRIDDER INCLUDES CYCLIC POINT!\n",
    "\n",
    "if comp == 'ice' and plot_types['spatial']:\n",
    "    ## Create Regridder for CICE grid\n",
    "    lon2d, lat2d = np.meshgrid(lons, lats)\n",
    "    \n",
    "    # Create target grid and sample nj ni grid \n",
    "    target_gridSIC = xr.Dataset({'lat': (['y', 'x'], lat2d),'lon': (['y', 'x'], lon2d)})\n",
    "    ds_samplens = ds_proc['LENS2 piControl'][0]\n",
    "    \n",
    "    # Create regridder for sea ice\n",
    "    regridderSIC = xe.Regridder(ds_samplens, target_gridSIC, 'nearest_s2d', reuse_weights=False)"
   ]
  },
  {
   "cell_type": "code",
   "execution_count": 27,
   "id": "44e66ae3-c75c-46ed-bc03-5fe21ea0db06",
   "metadata": {},
   "outputs": [],
   "source": [
    "# Spatial plots\n",
    "if plot_types['spatial']:\n",
    "    # Monthly\n",
    "    if time_avg == 0:\n",
    "        period = 'time'\n",
    "        date_str = mon_str"
   ]
  },
  {
   "cell_type": "markdown",
   "id": "31dda76c-341b-4836-a447-e9ac665cabca",
   "metadata": {},
   "source": [
    "## Spatial plots\n",
    "### Set up"
   ]
  },
  {
   "cell_type": "code",
   "execution_count": 28,
   "id": "ac422a2d-8296-4d90-b149-66a32c8b5e61",
   "metadata": {},
   "outputs": [],
   "source": [
    "if plots['map'][0]:\n",
    "    graph_type_str = 'Map'"
   ]
  },
  {
   "cell_type": "markdown",
   "id": "0a6a9220-a298-4f09-9840-e8d13a8f9d12",
   "metadata": {},
   "source": [
    "### Data processing"
   ]
  },
  {
   "cell_type": "code",
   "execution_count": 29,
   "id": "83eed395-be9c-4c37-84f3-0beeb9b67c75",
   "metadata": {},
   "outputs": [
    {
     "name": "stdout",
     "output_type": "stream",
     "text": [
      "CPU times: user 54.6 ms, sys: 399 µs, total: 55 ms\n",
      "Wall time: 60.3 ms\n"
     ]
    }
   ],
   "source": [
    "%%time\n",
    "\n",
    "if plots['map'][0]:\n",
    "    ds_avg = ds_proc\n",
    "    \n",
    "    # Calculating averages\n",
    "    ds_sp = SpatZonAvg(ds_avg)"
   ]
  },
  {
   "cell_type": "code",
   "execution_count": 30,
   "id": "c8a489f1-522b-4183-ae35-cfe011f883ce",
   "metadata": {},
   "outputs": [
    {
     "name": "stdout",
     "output_type": "stream",
     "text": [
      "Regridding CICE grid -> ATM grid...\n",
      "Regridding LENS2 piControl\n",
      "Regridding moremelt_rsnw0\n",
      "Saving Map.hi.Antarctic.0911.month.nc\n",
      "CPU times: user 3.08 s, sys: 251 ms, total: 3.34 s\n",
      "Wall time: 8.43 s\n"
     ]
    }
   ],
   "source": [
    "%%time\n",
    "\n",
    "if plots['map'][0]:\n",
    "    if comp == 'ice':\n",
    "        ds_sp = Regrid(ds_sp, regridderSIC)\n",
    "\n",
    "    # Add cyclic data\n",
    "    ds_sp = AddAllCyclic(ds_sp)\n",
    "    SaveData(ds_sp, graph_type_str, var, time_outstr)"
   ]
  },
  {
   "cell_type": "code",
   "execution_count": 31,
   "id": "9532f3b1-2a3c-4eda-925b-5a2b4e9900aa",
   "metadata": {},
   "outputs": [],
   "source": [
    "client.shutdown()"
   ]
  },
  {
   "cell_type": "code",
   "execution_count": null,
   "id": "c4be6af4",
   "metadata": {},
   "outputs": [],
   "source": []
  }
 ],
 "metadata": {
  "kernelspec": {
   "display_name": "Python [conda env:cenv]",
   "language": "python",
   "name": "conda-env-cenv-py"
  },
  "language_info": {
   "codemirror_mode": {
    "name": "ipython",
    "version": 3
   },
   "file_extension": ".py",
   "mimetype": "text/x-python",
   "name": "python",
   "nbconvert_exporter": "python",
   "pygments_lexer": "ipython3",
   "version": "3.12.2"
  }
 },
 "nbformat": 4,
 "nbformat_minor": 5
}
